{
  "nbformat": 4,
  "nbformat_minor": 0,
  "metadata": {
    "colab": {
      "name": "Data Science in Telco: Data Cleansing",
      "provenance": []
    },
    "kernelspec": {
      "name": "python3",
      "display_name": "Python 3"
    }
  },
  "cells": [
    {
      "cell_type": "markdown",
      "metadata": {
        "id": "SuVH7F0o0wBE"
      },
      "source": [
        "# Import library dan Dataset"
      ]
    },
    {
      "cell_type": "code",
      "metadata": {
        "colab": {
          "base_uri": "https://localhost:8080/"
        },
        "id": "E3Odt3jm00Ca",
        "outputId": "59d027f1-9d0f-4045-b99b-452b569b3aea"
      },
      "source": [
        "#import library\r\n",
        "import pandas as pd\r\n",
        "pd.options.display.max_columns = 50\r\n",
        "#import dataset\r\n",
        "df_load = pd.read_csv('https://dqlab-dataset.s3-ap-southeast-1.amazonaws.com/dqlab_telco.csv')\r\n",
        "\r\n",
        "#Tampilkan jumlah baris dan kolom\r\n",
        "print(df_load.shape)\r\n",
        "\r\n",
        "#Tampilkan 5 data teratas\r\n",
        "print(df_load.head())\r\n",
        "\r\n",
        "#Jumlah ID yang unik\r\n",
        "print(df_load.customerID.nunique())"
      ],
      "execution_count": 1,
      "outputs": [
        {
          "output_type": "stream",
          "text": [
            "(7113, 22)\n",
            "   UpdatedAt   customerID  gender  SeniorCitizen Partner Dependents  tenure  \\\n",
            "0     202006  45759018157  Female              0     Yes         No     1.0   \n",
            "1     202006  45557574145    Male              0      No         No    34.0   \n",
            "2     202006  45366876421    Male              0      No         No     2.0   \n",
            "3     202006  45779536532    Male              0      No         No    45.0   \n",
            "4     202006  45923787906  Female              0      No         No     2.0   \n",
            "\n",
            "  PhoneService     MultipleLines InternetService OnlineSecurity OnlineBackup  \\\n",
            "0           No  No phone service             DSL             No          Yes   \n",
            "1          Yes                No             DSL            Yes           No   \n",
            "2          Yes                No             DSL            Yes          Yes   \n",
            "3           No  No phone service             DSL            Yes           No   \n",
            "4          Yes                No     Fiber optic             No           No   \n",
            "\n",
            "  DeviceProtection TechSupport StreamingTV StreamingMovies        Contract  \\\n",
            "0               No          No          No              No  Month-to-month   \n",
            "1              Yes          No          No              No        One year   \n",
            "2               No          No          No              No  Month-to-month   \n",
            "3              Yes         Yes          No              No        One year   \n",
            "4               No          No          No              No  Month-to-month   \n",
            "\n",
            "  PaperlessBilling              PaymentMethod  MonthlyCharges  TotalCharges  \\\n",
            "0              Yes           Electronic check           29.85         29.85   \n",
            "1               No               Mailed check           56.95       1889.50   \n",
            "2              Yes               Mailed check           53.85        108.15   \n",
            "3               No  Bank transfer (automatic)           42.30       1840.75   \n",
            "4              Yes           Electronic check           70.70        151.65   \n",
            "\n",
            "  Churn  \n",
            "0    No  \n",
            "1    No  \n",
            "2   Yes  \n",
            "3    No  \n",
            "4   Yes  \n",
            "7017\n"
          ],
          "name": "stdout"
        }
      ]
    },
    {
      "cell_type": "markdown",
      "metadata": {
        "id": "6kWqZOmz6tP_"
      },
      "source": [
        "# Memfilter ID Number Pelanggan Format Tertentu"
      ]
    },
    {
      "cell_type": "code",
      "metadata": {
        "colab": {
          "base_uri": "https://localhost:8080/"
        },
        "id": "gNeLzbYf6vaC",
        "outputId": "24bf0732-3170-41fd-9959-e870e5967c27"
      },
      "source": [
        "df_load['valid_id'] = df_load['customerID'].astype(str).str.match(r'(45\\d{9,10})')\r\n",
        "df_load = (df_load[df_load['valid_id'] == True]).drop('valid_id', axis = 1)\r\n",
        "print('Hasil jumlah ID Customer yang terfilter adalah',df_load['customerID'].count())"
      ],
      "execution_count": null,
      "outputs": [
        {
          "output_type": "stream",
          "text": [
            "Hasil jumlah ID Customer yang terfilter adalah 7006\n"
          ],
          "name": "stdout"
        }
      ]
    },
    {
      "cell_type": "markdown",
      "metadata": {
        "id": "M21uMDBjqAud"
      },
      "source": [
        "# Memfilter Duplikasi ID Number Pelanggan\r\n",
        "\r\n",
        "Validitas dari ID Number pelanggan sangat diperlukan untuk memastikan bahwa data yang kita ambil sudah benar. Berdasarkan hasil tersbut, terdapat perbedaan jumlah nomor ID dari data pertama kali di load sampai dengan hasil akhir. Jumlah row data ketika pertama kali di load ada sebanyak 7113 rows dan 22 coloumns dengan 7017 jumlah ID yang Unique. Kemudian setelah di cek validitas dari ID pelanggan, maka tersisa 6993 rows data"
      ]
    },
    {
      "cell_type": "code",
      "metadata": {
        "colab": {
          "base_uri": "https://localhost:8080/"
        },
        "id": "QNTFtW23qBwB",
        "outputId": "8f2c75b4-ca34-44dc-9b6e-01847b969db7"
      },
      "source": [
        "# Drop Duplicate Rows\r\n",
        "df_load.drop_duplicates()\r\n",
        "# Drop duplicate ID sorted by Periode\r\n",
        "df_load = df_load.sort_values('UpdatedAt', ascending=False).drop_duplicates(['customerID'])\r\n",
        "print('Hasil jumlah ID Customer yang sudah dihilangkan duplikasinya (distinct) adalah',df_load['customerID'].count())"
      ],
      "execution_count": null,
      "outputs": [
        {
          "output_type": "stream",
          "text": [
            "Hasil jumlah ID Customer yang sudah dihilangkan duplikasinya (distinct) adalah 6993\n"
          ],
          "name": "stdout"
        }
      ]
    },
    {
      "cell_type": "markdown",
      "metadata": {
        "id": "F9k_Hq4UZ2Yv"
      },
      "source": [
        "# Mengatasi Missing Values dengan Penghapusan Rows"
      ]
    },
    {
      "cell_type": "code",
      "metadata": {
        "colab": {
          "base_uri": "https://localhost:8080/"
        },
        "id": "ySdOAZ8cZ3wX",
        "outputId": "0d7e9e68-5821-46bd-c5dd-cd1cd14ab9fc"
      },
      "source": [
        "print('Total missing Values Data dari colom Churn', df_load.isnull().sum().sum())\r\n",
        "# Dropping all Rows with spesific column\r\n",
        "df_load.dropna(subset=['Churn'], inplace=True)\r\n",
        "print('Total Rows dan Column Data setelah dihapus Data Missing Values adalah', df_load.shape)"
      ],
      "execution_count": null,
      "outputs": [
        {
          "output_type": "stream",
          "text": [
            "Total missing Values Data dari colom Churn 43\n",
            "Total Rows dan Column Data setelah dihapus Data Missing Values adalah (7070, 22)\n"
          ],
          "name": "stdout"
        }
      ]
    },
    {
      "cell_type": "markdown",
      "metadata": {
        "id": "i5lWbaV1-OFU"
      },
      "source": [
        "# Mengatasi missing value dan mengisi dengan nilai tertentu"
      ]
    },
    {
      "cell_type": "code",
      "metadata": {
        "colab": {
          "base_uri": "https://localhost:8080/"
        },
        "id": "nBL1_Zok-Vee",
        "outputId": "7a370e38-8680-499e-a8f0-ee41e5787dac"
      },
      "source": [
        "print('Status Missing Values :',df_load.isnull().values.any())\r\n",
        "print('\\nJumlah Missing Values masing-masing kolom, adalah:')\r\n",
        "print(df_load.isnull().sum().sort_values(ascending=False))\r\n",
        "\r\n",
        "# handling missing values Tenure fill with 11\r\n",
        "df_load['tenure'].fillna(11, inplace=True)\r\n",
        "\r\n",
        "# Handling missing values num vars (except Tenure)\r\n",
        "for col_name in list(['MonthlyCharges','TotalCharges']):\r\n",
        "  median = df_load[col_name].median()\r\n",
        "  df_load[col_name].fillna(median, inplace=True)\r\n",
        "\r\n",
        "print('\\nJumlah Missing Values setelah di imputer datanya, adalah:')\r\n",
        "print(df_load.isnull().sum().sort_values(ascending=False))"
      ],
      "execution_count": null,
      "outputs": [
        {
          "output_type": "stream",
          "text": [
            "Status Missing Values : False\n",
            "\n",
            "Jumlah Missing Values masing-masing kolom, adalah:\n",
            "Churn               0\n",
            "TotalCharges        0\n",
            "customerID          0\n",
            "gender              0\n",
            "SeniorCitizen       0\n",
            "Partner             0\n",
            "Dependents          0\n",
            "tenure              0\n",
            "PhoneService        0\n",
            "MultipleLines       0\n",
            "InternetService     0\n",
            "OnlineSecurity      0\n",
            "OnlineBackup        0\n",
            "DeviceProtection    0\n",
            "TechSupport         0\n",
            "StreamingTV         0\n",
            "StreamingMovies     0\n",
            "Contract            0\n",
            "PaperlessBilling    0\n",
            "PaymentMethod       0\n",
            "MonthlyCharges      0\n",
            "UpdatedAt           0\n",
            "dtype: int64\n",
            "\n",
            "Jumlah Missing Values setelah di imputer datanya, adalah:\n",
            "Churn               0\n",
            "TotalCharges        0\n",
            "customerID          0\n",
            "gender              0\n",
            "SeniorCitizen       0\n",
            "Partner             0\n",
            "Dependents          0\n",
            "tenure              0\n",
            "PhoneService        0\n",
            "MultipleLines       0\n",
            "InternetService     0\n",
            "OnlineSecurity      0\n",
            "OnlineBackup        0\n",
            "DeviceProtection    0\n",
            "TechSupport         0\n",
            "StreamingTV         0\n",
            "StreamingMovies     0\n",
            "Contract            0\n",
            "PaperlessBilling    0\n",
            "PaymentMethod       0\n",
            "MonthlyCharges      0\n",
            "UpdatedAt           0\n",
            "dtype: int64\n"
          ],
          "name": "stdout"
        }
      ]
    },
    {
      "cell_type": "markdown",
      "metadata": {
        "id": "nObUdTG_AlE1"
      },
      "source": [
        "# Mendeteksi adanya Outlier (Boxplot)"
      ]
    },
    {
      "cell_type": "code",
      "metadata": {
        "colab": {
          "base_uri": "https://localhost:8080/",
          "height": 990
        },
        "id": "WM-yFV9jAmDd",
        "outputId": "1fc1120e-52fb-4bc5-d034-aec653876e79"
      },
      "source": [
        "print('\\nPersebaran data sebelum ditangani Outlier: ')\r\n",
        "print(df_load[['tenure','MonthlyCharges','TotalCharges']].describe())\r\n",
        "\r\n",
        "# Creating Box Plot\r\n",
        "import matplotlib.pyplot as plt\r\n",
        "import seaborn as sns\r\n",
        "\r\n",
        "#Your Codes here\r\n",
        "plt.figure() # untuk membuat figure baru\r\n",
        "sns.boxplot(x=df_load['tenure'])\r\n",
        "plt.show()\t\t\t\r\n",
        "\r\n",
        "plt.figure() # untuk embuat figure baru\r\n",
        "sns.boxplot(x=df_load['MonthlyCharges'])\r\n",
        "plt.show()\r\n",
        "\t\t\t\r\n",
        "plt.figure()\r\n",
        "sns.boxplot(x=df_load['TotalCharges'])\r\n",
        "plt.show()\t\t\t"
      ],
      "execution_count": null,
      "outputs": [
        {
          "output_type": "stream",
          "text": [
            "\n",
            "Persebaran data sebelum ditangani Outlier: \n",
            "            tenure  MonthlyCharges  TotalCharges\n",
            "count  7070.000000     7070.000000   7070.000000\n",
            "mean     32.429562       67.005856   2301.594604\n",
            "std      25.171733      117.519054   2573.531351\n",
            "min       0.000000        0.000000     19.000000\n",
            "25%       9.000000       36.112500    403.200000\n",
            "50%      29.000000       70.450000   1400.700000\n",
            "75%      55.000000       89.850000   3787.900000\n",
            "max     500.000000     9000.000000  80000.000000\n"
          ],
          "name": "stdout"
        },
        {
          "output_type": "display_data",
          "data": {
            "image/png": "[encoded data removed]",
            "text/plain": [
              "<Figure size 432x288 with 1 Axes>"
            ]
          },
          "metadata": {
            "tags": [],
            "needs_background": "light"
          }
        },
        {
          "output_type": "display_data",
          "data": {
            "image/png": "[encoded data removed]",
            "text/plain": [
              "<Figure size 432x288 with 1 Axes>"
            ]
          },
          "metadata": {
            "tags": [],
            "needs_background": "light"
          }
        },
        {
          "output_type": "display_data",
          "data": {
            "image/png": "[encoded data removed]",
            "text/plain": [
              "<Figure size 432x288 with 1 Axes>"
            ]
          },
          "metadata": {
            "tags": [],
            "needs_background": "light"
          }
        }
      ]
    },
    {
      "cell_type": "markdown",
      "metadata": {
        "id": "1NV6uEjzFCNk"
      },
      "source": [
        "# Mengatasai Outlier\r\n",
        "\r\n",
        "\r\n",
        "Dari ketiga boxplot dengan variable 'tenure','MonthlyCharges' & 'TotalCharges' terlihat jelas bahwasannya ada outlier. Hal ini bisa di identifikasi dari adanya titik titik yang berada jauh dari gambar boxplotnya. Kemudian kalo kita liat persebaran datanya dari kolom max nya juga ada nilai yang sangat tinggi sekali.\r\n",
        "\r\n",
        "Kemudian nilai outlier tersebut ditangani dengan cara merubah nilainya ke nilai Maximum & Minimum dari interquartile range (IQR). Setelah di tangani outliernya, dan dilihat perseberan data nya, terlihat sudah tidak ada lagi nilai yang outlier."
      ]
    },
    {
      "cell_type": "code",
      "metadata": {
        "colab": {
          "base_uri": "https://localhost:8080/"
        },
        "id": "KTF7ecJgFGxg",
        "outputId": "4f96fb11-c1b8-4f44-cd62-c1cc2919e80a"
      },
      "source": [
        "# Handling with IQR\r\n",
        "Q1 = (df_load[['tenure','MonthlyCharges','TotalCharges']]).quantile(0.25)\r\n",
        "Q3 = (df_load[['tenure','MonthlyCharges','TotalCharges']]).quantile(0.75)\r\n",
        "\r\n",
        "IQR = Q3 - Q1\r\n",
        "maximum = Q3 + (1.5*IQR)\r\n",
        "print('Nilai Maximum dari masing-masing Variable adalah: ')\r\n",
        "print(maximum)\r\n",
        "minimum = Q1 - (1.5*IQR)\r\n",
        "print('\\nNilai Minimum dari masing-masing Variable adalah: ')\r\n",
        "print(minimum)\r\n",
        "\r\n",
        "more_than = (df_load > maximum)\r\n",
        "lower_than = (df_load < minimum)\r\n",
        "df_load = df_load.mask(more_than, maximum, axis=1)\r\n",
        "df_load = df_load.mask(lower_than, minimum, axis=1)\r\n",
        "\r\n",
        "print('\\nPersebaran data setelah ditangani Outlier: ')\r\n",
        "print(df_load[['tenure','MonthlyCharges','TotalCharges']].describe())"
      ],
      "execution_count": null,
      "outputs": [
        {
          "output_type": "stream",
          "text": [
            "Nilai Maximum dari masing-masing Variable adalah: \n",
            "tenure             124.00000\n",
            "MonthlyCharges     170.45625\n",
            "TotalCharges      8864.95000\n",
            "dtype: float64\n",
            "\n",
            "Nilai Minimum dari masing-masing Variable adalah: \n",
            "tenure             -60.00000\n",
            "MonthlyCharges     -44.49375\n",
            "TotalCharges     -4673.85000\n",
            "dtype: float64\n",
            "\n",
            "Persebaran data setelah ditangani Outlier: \n",
            "            tenure  MonthlyCharges  TotalCharges\n",
            "count  7070.000000     7070.000000   7070.000000\n",
            "mean     32.376379       64.977741   2282.885962\n",
            "std      24.573820       30.095469   2265.513347\n",
            "min       0.000000        0.000000     19.000000\n",
            "25%       9.000000       36.112500    403.200000\n",
            "50%      29.000000       70.450000   1400.700000\n",
            "75%      55.000000       89.850000   3787.900000\n",
            "max     124.000000      170.456250   8864.950000\n"
          ],
          "name": "stdout"
        }
      ]
    },
    {
      "cell_type": "markdown",
      "metadata": {
        "id": "Y7slqrPT0qRC"
      },
      "source": [
        "# Mendeteksi Nilai yang tidak standart"
      ]
    },
    {
      "cell_type": "code",
      "metadata": {
        "colab": {
          "base_uri": "https://localhost:8080/"
        },
        "id": "OXHWLOHw0uaZ",
        "outputId": "2bda6bbd-5e13-4f39-a8e7-52415ca46077"
      },
      "source": [
        "#Loop\r\n",
        "for col_name in list(['gender','SeniorCitizen','Partner','Dependents','PhoneService','MultipleLines','InternetService','OnlineSecurity','OnlineBackup','DeviceProtection','TechSupport','StreamingTV','StreamingMovies','Contract','PaperlessBilling','PaymentMethod','Churn']):\r\n",
        "\tprint('\\nUnique Values Count\\033[1m' + 'Before Standardized\\033[0m Variable', col_name)\r\n",
        "\tprint(df_load[col_name].value_counts())\r\n",
        " "
      ],
      "execution_count": 3,
      "outputs": [
        {
          "output_type": "stream",
          "text": [
            "\n",
            "Unique Values Count\u001b[1mBefore Standardized\u001b[0m Variable gender\n",
            "Male         3581\n",
            "Female       3512\n",
            "Wanita         14\n",
            "Laki-Laki       6\n",
            "Name: gender, dtype: int64\n",
            "\n",
            "Unique Values Count\u001b[1mBefore Standardized\u001b[0m Variable SeniorCitizen\n",
            "0    5962\n",
            "1    1151\n",
            "Name: SeniorCitizen, dtype: int64\n",
            "\n",
            "Unique Values Count\u001b[1mBefore Standardized\u001b[0m Variable Partner\n",
            "No     3676\n",
            "Yes    3437\n",
            "Name: Partner, dtype: int64\n",
            "\n",
            "Unique Values Count\u001b[1mBefore Standardized\u001b[0m Variable Dependents\n",
            "No     4978\n",
            "Yes    2115\n",
            "Iya      20\n",
            "Name: Dependents, dtype: int64\n",
            "\n",
            "Unique Values Count\u001b[1mBefore Standardized\u001b[0m Variable PhoneService\n",
            "Yes    6423\n",
            "No      690\n",
            "Name: PhoneService, dtype: int64\n",
            "\n",
            "Unique Values Count\u001b[1mBefore Standardized\u001b[0m Variable MultipleLines\n",
            "No                  3428\n",
            "Yes                 2995\n",
            "No phone service     690\n",
            "Name: MultipleLines, dtype: int64\n",
            "\n",
            "Unique Values Count\u001b[1mBefore Standardized\u001b[0m Variable InternetService\n",
            "Fiber optic    3125\n",
            "DSL            2451\n",
            "No             1537\n",
            "Name: InternetService, dtype: int64\n",
            "\n",
            "Unique Values Count\u001b[1mBefore Standardized\u001b[0m Variable OnlineSecurity\n",
            "No                     3531\n",
            "Yes                    2045\n",
            "No internet service    1537\n",
            "Name: OnlineSecurity, dtype: int64\n",
            "\n",
            "Unique Values Count\u001b[1mBefore Standardized\u001b[0m Variable OnlineBackup\n",
            "No                     3120\n",
            "Yes                    2456\n",
            "No internet service    1537\n",
            "Name: OnlineBackup, dtype: int64\n",
            "\n",
            "Unique Values Count\u001b[1mBefore Standardized\u001b[0m Variable DeviceProtection\n",
            "No                     3120\n",
            "Yes                    2456\n",
            "No internet service    1537\n",
            "Name: DeviceProtection, dtype: int64\n",
            "\n",
            "Unique Values Count\u001b[1mBefore Standardized\u001b[0m Variable TechSupport\n",
            "No                     3502\n",
            "Yes                    2074\n",
            "No internet service    1537\n",
            "Name: TechSupport, dtype: int64\n",
            "\n",
            "Unique Values Count\u001b[1mBefore Standardized\u001b[0m Variable StreamingTV\n",
            "No                     2837\n",
            "Yes                    2739\n",
            "No internet service    1537\n",
            "Name: StreamingTV, dtype: int64\n",
            "\n",
            "Unique Values Count\u001b[1mBefore Standardized\u001b[0m Variable StreamingMovies\n",
            "No                     2809\n",
            "Yes                    2767\n",
            "No internet service    1537\n",
            "Name: StreamingMovies, dtype: int64\n",
            "\n",
            "Unique Values Count\u001b[1mBefore Standardized\u001b[0m Variable Contract\n",
            "Month-to-month    3905\n",
            "Two year          1716\n",
            "One year          1492\n",
            "Name: Contract, dtype: int64\n",
            "\n",
            "Unique Values Count\u001b[1mBefore Standardized\u001b[0m Variable PaperlessBilling\n",
            "Yes    4206\n",
            "No     2907\n",
            "Name: PaperlessBilling, dtype: int64\n",
            "\n",
            "Unique Values Count\u001b[1mBefore Standardized\u001b[0m Variable PaymentMethod\n",
            "Electronic check             2385\n",
            "Mailed check                 1630\n",
            "Bank transfer (automatic)    1556\n",
            "Credit card (automatic)      1542\n",
            "Name: PaymentMethod, dtype: int64\n",
            "\n",
            "Unique Values Count\u001b[1mBefore Standardized\u001b[0m Variable Churn\n",
            "No       5195\n",
            "Yes      1866\n",
            "Churn       9\n",
            "Name: Churn, dtype: int64\n"
          ],
          "name": "stdout"
        }
      ]
    },
    {
      "cell_type": "markdown",
      "metadata": {
        "id": "AmH2j4t93JaJ"
      },
      "source": [
        "# Menstandarisasi nilai kategorik"
      ]
    },
    {
      "cell_type": "code",
      "metadata": {
        "colab": {
          "base_uri": "https://localhost:8080/"
        },
        "id": "QRUZe7TR3OCS",
        "outputId": "3ebea59a-3d85-4ace-b2a7-bec44089d3da"
      },
      "source": [
        "df_load = df_load.replace(['Wanita','Laki-Laki','Churn','Iya'],['Female','Male','Yes','Yes'])\r\n",
        "\r\n",
        "\r\n",
        "#Loop\r\n",
        "for col_name in  list(['gender','Dependents','Churn']):\r\n",
        "\tprint('\\nUnique Values Count\\033[1m'+'After Standardized\\033[0m Variable', col_name)\r\n",
        "\tprint(df_load[col_name].value_counts())\r\n",
        " # write your command here"
      ],
      "execution_count": 9,
      "outputs": [
        {
          "output_type": "stream",
          "text": [
            "\n",
            "Unique Values Count\u001b[1mAfter Standardized\u001b[0m Variable gender\n",
            "Male    7113\n",
            "Name: gender, dtype: int64\n",
            "\n",
            "Unique Values Count\u001b[1mAfter Standardized\u001b[0m Variable Dependents\n",
            "No     4978\n",
            "Yes    2135\n",
            "Name: Dependents, dtype: int64\n",
            "\n",
            "Unique Values Count\u001b[1mAfter Standardized\u001b[0m Variable Churn\n",
            "No     5195\n",
            "Yes    1875\n",
            "Name: Churn, dtype: int64\n"
          ],
          "name": "stdout"
        }
      ]
    },
    {
      "cell_type": "markdown",
      "metadata": {
        "id": "TNU2Rzs64izN"
      },
      "source": [
        "#Kesimpulan\r\n",
        "\r\n",
        "Ketika kita amati lebih jauh dari jumlah unique value dari masing-masing variable kategorik, terlihat jelas bahwa ada beberapa variable yang tidak standar. Variable itu adalah :\r\n",
        "\r\n",
        "Gender **(Female, Male, Wanita, Laki-Laki)**, yang bisa di standarkan nilainya menjadi (Female, Male) karena mempunyai makna yang sama.\r\n",
        "Dependents **(Yes, No, Iya)**, yang bisa di standarkan nilainya menjadi **(Yes, No)** karena mempunyai makna yang sama.\r\n",
        "Churn **(Yes, No, Churn)**, yang bisa di standarkan nilainya menjadi **(Yes, No)** karena mempunyai makna yang sama.\r\n",
        "Setelah kita standarkan nilainya, dan kita amati kembali bentuk datanya, sudah terstandar dengan baik untuk unique value nya."
      ]
    }
  ]
}